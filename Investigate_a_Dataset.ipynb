{
 "cells": [
  {
   "cell_type": "markdown",
   "metadata": {},
   "source": [
    "\n",
    "# Project: Investigate The TMDB-Movies Dataset\n",
    "\n",
    "## Table of Contents\n",
    "<ul>\n",
    "<li><a href=\"#intro\">Introduction</a></li>\n",
    "<li><a href=\"#wrangling\">Data Wrangling and Cleaning</a></li>\n",
    "<li><a href=\"#eda\">Exploratory Data Analysis</a></li>\n",
    "<li><a href=\"#conclusions\">Conclusions</a></li>\n",
    "</ul>"
   ]
  },
  {
   "cell_type": "markdown",
   "metadata": {},
   "source": [
    "<a id='intro'></a>\n",
    "# Introduction\n",
    "\n",
    "For the sake of my Case Study I will analyze the Movies Dataset as it seems to be the most interesting among the datasets provided. At a glance there also seems to be a wide range of data types and this will be a good way for me to test out my knowledge gained from the portion in a holistic manner. In this report, I will analyze the data and walk you through my thought process."
   ]
  },
  {
   "cell_type": "code",
   "execution_count": 65,
   "metadata": {},
   "outputs": [],
   "source": [
    "# Import of neccesary packages for data analysis\n",
    "import pandas as pd\n",
    "import numpy as np\n",
    "import csv\n",
    "import matplotlib.pyplot as plt\n",
    "import seaborn as sns\n",
    "%matplotlib inline\n",
    "from datetime import datetime\n",
    "\n"
   ]
  },
  {
   "cell_type": "code",
   "execution_count": 66,
   "metadata": {},
   "outputs": [
    {
     "data": {
      "text/html": [
       "<div>\n",
       "<style>\n",
       "    .dataframe thead tr:only-child th {\n",
       "        text-align: right;\n",
       "    }\n",
       "\n",
       "    .dataframe thead th {\n",
       "        text-align: left;\n",
       "    }\n",
       "\n",
       "    .dataframe tbody tr th {\n",
       "        vertical-align: top;\n",
       "    }\n",
       "</style>\n",
       "<table border=\"1\" class=\"dataframe\">\n",
       "  <thead>\n",
       "    <tr style=\"text-align: right;\">\n",
       "      <th></th>\n",
       "      <th>id</th>\n",
       "      <th>imdb_id</th>\n",
       "      <th>popularity</th>\n",
       "      <th>budget</th>\n",
       "      <th>revenue</th>\n",
       "      <th>original_title</th>\n",
       "      <th>cast</th>\n",
       "      <th>homepage</th>\n",
       "      <th>director</th>\n",
       "      <th>tagline</th>\n",
       "      <th>...</th>\n",
       "      <th>overview</th>\n",
       "      <th>runtime</th>\n",
       "      <th>genres</th>\n",
       "      <th>production_companies</th>\n",
       "      <th>release_date</th>\n",
       "      <th>vote_count</th>\n",
       "      <th>vote_average</th>\n",
       "      <th>release_year</th>\n",
       "      <th>budget_adj</th>\n",
       "      <th>revenue_adj</th>\n",
       "    </tr>\n",
       "  </thead>\n",
       "  <tbody>\n",
       "    <tr>\n",
       "      <th>0</th>\n",
       "      <td>135397</td>\n",
       "      <td>tt0369610</td>\n",
       "      <td>32.985763</td>\n",
       "      <td>150000000</td>\n",
       "      <td>1513528810</td>\n",
       "      <td>Jurassic World</td>\n",
       "      <td>Chris Pratt|Bryce Dallas Howard|Irrfan Khan|Vi...</td>\n",
       "      <td>http://www.jurassicworld.com/</td>\n",
       "      <td>Colin Trevorrow</td>\n",
       "      <td>The park is open.</td>\n",
       "      <td>...</td>\n",
       "      <td>Twenty-two years after the events of Jurassic ...</td>\n",
       "      <td>124</td>\n",
       "      <td>Action|Adventure|Science Fiction|Thriller</td>\n",
       "      <td>Universal Studios|Amblin Entertainment|Legenda...</td>\n",
       "      <td>6/9/15</td>\n",
       "      <td>5562</td>\n",
       "      <td>6.5</td>\n",
       "      <td>2015</td>\n",
       "      <td>1.379999e+08</td>\n",
       "      <td>1.392446e+09</td>\n",
       "    </tr>\n",
       "    <tr>\n",
       "      <th>1</th>\n",
       "      <td>76341</td>\n",
       "      <td>tt1392190</td>\n",
       "      <td>28.419936</td>\n",
       "      <td>150000000</td>\n",
       "      <td>378436354</td>\n",
       "      <td>Mad Max: Fury Road</td>\n",
       "      <td>Tom Hardy|Charlize Theron|Hugh Keays-Byrne|Nic...</td>\n",
       "      <td>http://www.madmaxmovie.com/</td>\n",
       "      <td>George Miller</td>\n",
       "      <td>What a Lovely Day.</td>\n",
       "      <td>...</td>\n",
       "      <td>An apocalyptic story set in the furthest reach...</td>\n",
       "      <td>120</td>\n",
       "      <td>Action|Adventure|Science Fiction|Thriller</td>\n",
       "      <td>Village Roadshow Pictures|Kennedy Miller Produ...</td>\n",
       "      <td>5/13/15</td>\n",
       "      <td>6185</td>\n",
       "      <td>7.1</td>\n",
       "      <td>2015</td>\n",
       "      <td>1.379999e+08</td>\n",
       "      <td>3.481613e+08</td>\n",
       "    </tr>\n",
       "    <tr>\n",
       "      <th>2</th>\n",
       "      <td>262500</td>\n",
       "      <td>tt2908446</td>\n",
       "      <td>13.112507</td>\n",
       "      <td>110000000</td>\n",
       "      <td>295238201</td>\n",
       "      <td>Insurgent</td>\n",
       "      <td>Shailene Woodley|Theo James|Kate Winslet|Ansel...</td>\n",
       "      <td>http://www.thedivergentseries.movie/#insurgent</td>\n",
       "      <td>Robert Schwentke</td>\n",
       "      <td>One Choice Can Destroy You</td>\n",
       "      <td>...</td>\n",
       "      <td>Beatrice Prior must confront her inner demons ...</td>\n",
       "      <td>119</td>\n",
       "      <td>Adventure|Science Fiction|Thriller</td>\n",
       "      <td>Summit Entertainment|Mandeville Films|Red Wago...</td>\n",
       "      <td>3/18/15</td>\n",
       "      <td>2480</td>\n",
       "      <td>6.3</td>\n",
       "      <td>2015</td>\n",
       "      <td>1.012000e+08</td>\n",
       "      <td>2.716190e+08</td>\n",
       "    </tr>\n",
       "    <tr>\n",
       "      <th>3</th>\n",
       "      <td>140607</td>\n",
       "      <td>tt2488496</td>\n",
       "      <td>11.173104</td>\n",
       "      <td>200000000</td>\n",
       "      <td>2068178225</td>\n",
       "      <td>Star Wars: The Force Awakens</td>\n",
       "      <td>Harrison Ford|Mark Hamill|Carrie Fisher|Adam D...</td>\n",
       "      <td>http://www.starwars.com/films/star-wars-episod...</td>\n",
       "      <td>J.J. Abrams</td>\n",
       "      <td>Every generation has a story.</td>\n",
       "      <td>...</td>\n",
       "      <td>Thirty years after defeating the Galactic Empi...</td>\n",
       "      <td>136</td>\n",
       "      <td>Action|Adventure|Science Fiction|Fantasy</td>\n",
       "      <td>Lucasfilm|Truenorth Productions|Bad Robot</td>\n",
       "      <td>12/15/15</td>\n",
       "      <td>5292</td>\n",
       "      <td>7.5</td>\n",
       "      <td>2015</td>\n",
       "      <td>1.839999e+08</td>\n",
       "      <td>1.902723e+09</td>\n",
       "    </tr>\n",
       "    <tr>\n",
       "      <th>4</th>\n",
       "      <td>168259</td>\n",
       "      <td>tt2820852</td>\n",
       "      <td>9.335014</td>\n",
       "      <td>190000000</td>\n",
       "      <td>1506249360</td>\n",
       "      <td>Furious 7</td>\n",
       "      <td>Vin Diesel|Paul Walker|Jason Statham|Michelle ...</td>\n",
       "      <td>http://www.furious7.com/</td>\n",
       "      <td>James Wan</td>\n",
       "      <td>Vengeance Hits Home</td>\n",
       "      <td>...</td>\n",
       "      <td>Deckard Shaw seeks revenge against Dominic Tor...</td>\n",
       "      <td>137</td>\n",
       "      <td>Action|Crime|Thriller</td>\n",
       "      <td>Universal Pictures|Original Film|Media Rights ...</td>\n",
       "      <td>4/1/15</td>\n",
       "      <td>2947</td>\n",
       "      <td>7.3</td>\n",
       "      <td>2015</td>\n",
       "      <td>1.747999e+08</td>\n",
       "      <td>1.385749e+09</td>\n",
       "    </tr>\n",
       "  </tbody>\n",
       "</table>\n",
       "<p>5 rows × 21 columns</p>\n",
       "</div>"
      ],
      "text/plain": [
       "       id    imdb_id  popularity     budget     revenue  \\\n",
       "0  135397  tt0369610   32.985763  150000000  1513528810   \n",
       "1   76341  tt1392190   28.419936  150000000   378436354   \n",
       "2  262500  tt2908446   13.112507  110000000   295238201   \n",
       "3  140607  tt2488496   11.173104  200000000  2068178225   \n",
       "4  168259  tt2820852    9.335014  190000000  1506249360   \n",
       "\n",
       "                 original_title  \\\n",
       "0                Jurassic World   \n",
       "1            Mad Max: Fury Road   \n",
       "2                     Insurgent   \n",
       "3  Star Wars: The Force Awakens   \n",
       "4                     Furious 7   \n",
       "\n",
       "                                                cast  \\\n",
       "0  Chris Pratt|Bryce Dallas Howard|Irrfan Khan|Vi...   \n",
       "1  Tom Hardy|Charlize Theron|Hugh Keays-Byrne|Nic...   \n",
       "2  Shailene Woodley|Theo James|Kate Winslet|Ansel...   \n",
       "3  Harrison Ford|Mark Hamill|Carrie Fisher|Adam D...   \n",
       "4  Vin Diesel|Paul Walker|Jason Statham|Michelle ...   \n",
       "\n",
       "                                            homepage          director  \\\n",
       "0                      http://www.jurassicworld.com/   Colin Trevorrow   \n",
       "1                        http://www.madmaxmovie.com/     George Miller   \n",
       "2     http://www.thedivergentseries.movie/#insurgent  Robert Schwentke   \n",
       "3  http://www.starwars.com/films/star-wars-episod...       J.J. Abrams   \n",
       "4                           http://www.furious7.com/         James Wan   \n",
       "\n",
       "                         tagline      ...       \\\n",
       "0              The park is open.      ...        \n",
       "1             What a Lovely Day.      ...        \n",
       "2     One Choice Can Destroy You      ...        \n",
       "3  Every generation has a story.      ...        \n",
       "4            Vengeance Hits Home      ...        \n",
       "\n",
       "                                            overview runtime  \\\n",
       "0  Twenty-two years after the events of Jurassic ...     124   \n",
       "1  An apocalyptic story set in the furthest reach...     120   \n",
       "2  Beatrice Prior must confront her inner demons ...     119   \n",
       "3  Thirty years after defeating the Galactic Empi...     136   \n",
       "4  Deckard Shaw seeks revenge against Dominic Tor...     137   \n",
       "\n",
       "                                      genres  \\\n",
       "0  Action|Adventure|Science Fiction|Thriller   \n",
       "1  Action|Adventure|Science Fiction|Thriller   \n",
       "2         Adventure|Science Fiction|Thriller   \n",
       "3   Action|Adventure|Science Fiction|Fantasy   \n",
       "4                      Action|Crime|Thriller   \n",
       "\n",
       "                                production_companies release_date vote_count  \\\n",
       "0  Universal Studios|Amblin Entertainment|Legenda...       6/9/15       5562   \n",
       "1  Village Roadshow Pictures|Kennedy Miller Produ...      5/13/15       6185   \n",
       "2  Summit Entertainment|Mandeville Films|Red Wago...      3/18/15       2480   \n",
       "3          Lucasfilm|Truenorth Productions|Bad Robot     12/15/15       5292   \n",
       "4  Universal Pictures|Original Film|Media Rights ...       4/1/15       2947   \n",
       "\n",
       "   vote_average  release_year    budget_adj   revenue_adj  \n",
       "0           6.5          2015  1.379999e+08  1.392446e+09  \n",
       "1           7.1          2015  1.379999e+08  3.481613e+08  \n",
       "2           6.3          2015  1.012000e+08  2.716190e+08  \n",
       "3           7.5          2015  1.839999e+08  1.902723e+09  \n",
       "4           7.3          2015  1.747999e+08  1.385749e+09  \n",
       "\n",
       "[5 rows x 21 columns]"
      ]
     },
     "execution_count": 66,
     "metadata": {},
     "output_type": "execute_result"
    }
   ],
   "source": [
    "# Now that we have imported the necessary packages lets import the dataset\n",
    "df= pd.read_csv('tmdb-movies.csv')\n",
    "\n",
    "# Let preview the Data\n",
    "df.head()"
   ]
  },
  {
   "cell_type": "code",
   "execution_count": 67,
   "metadata": {},
   "outputs": [
    {
     "data": {
      "text/plain": [
       "10866"
      ]
     },
     "execution_count": 67,
     "metadata": {},
     "output_type": "execute_result"
    }
   ],
   "source": [
    "len(df)"
   ]
  },
  {
   "cell_type": "markdown",
   "metadata": {},
   "source": [
    "## Questions that arise from the preview:\n",
    "\n",
    "The above information proposes a whole host of possibilities through which we can analyze and find some insights. For the sake of my analysis I will attempt to answer the following questions:\n",
    "\n",
    "### Question 1:\n",
    "#### What factors attribute to creating a successful movie (In terms of proft earned)?\n",
    "\n",
    "### Question 2:\n",
    "#### Is there a correlation between the rating of a movie and revenue earned?"
   ]
  },
  {
   "cell_type": "code",
   "execution_count": 68,
   "metadata": {},
   "outputs": [
    {
     "name": "stdout",
     "output_type": "stream",
     "text": [
      "<class 'pandas.core.frame.DataFrame'>\n",
      "RangeIndex: 10866 entries, 0 to 10865\n",
      "Data columns (total 21 columns):\n",
      "id                      10866 non-null int64\n",
      "imdb_id                 10856 non-null object\n",
      "popularity              10866 non-null float64\n",
      "budget                  10866 non-null int64\n",
      "revenue                 10866 non-null int64\n",
      "original_title          10866 non-null object\n",
      "cast                    10790 non-null object\n",
      "homepage                2936 non-null object\n",
      "director                10822 non-null object\n",
      "tagline                 8042 non-null object\n",
      "keywords                9373 non-null object\n",
      "overview                10862 non-null object\n",
      "runtime                 10866 non-null int64\n",
      "genres                  10843 non-null object\n",
      "production_companies    9836 non-null object\n",
      "release_date            10866 non-null object\n",
      "vote_count              10866 non-null int64\n",
      "vote_average            10866 non-null float64\n",
      "release_year            10866 non-null int64\n",
      "budget_adj              10866 non-null float64\n",
      "revenue_adj             10866 non-null float64\n",
      "dtypes: float64(4), int64(6), object(11)\n",
      "memory usage: 1.7+ MB\n"
     ]
    }
   ],
   "source": [
    "# The data seems to be well formatted but we also need to check for any inconsistenncies with the data provided.\n",
    "# The below summary of the file will be a good starting point for us to begin cleaning the data and understanding\n",
    "# the file better\n",
    "df.info()"
   ]
  },
  {
   "cell_type": "markdown",
   "metadata": {},
   "source": [
    "### Looking Forward...\n",
    "\n",
    "A brief observation on the table as well as a brief summary of the info has revealed that there is a bit of missing data. In addition it also seems that some of the columns provided are unnecessary for the sake of our analysis and thus need to be dropped. There should also be a check for an redundancy issues.\n",
    "\n",
    "The data wrangling portion below will now attempt to clean and prep this data so that we may answer our proposed questions.\n"
   ]
  },
  {
   "cell_type": "markdown",
   "metadata": {},
   "source": [
    "<a id='wrangling'></a>\n",
    "# Data Wrangling and Cleaning\n",
    "\n",
    "### General Properties\n",
    "\n",
    "Based on our proposed questions and the brief look at columns, the objectives for Data Wrangling will be to:\n",
    "\n",
    "1) Remove the unnecessary columns of; ID, Homepage, Tagline, Overview, Budget_adj and Revenue_adj\n",
    "\n",
    "2) Remove any duplicates\n",
    "\n",
    "3) Deal with missing data\n",
    "\n",
    "4) Make it clear that monetary values are presumed to be dollars\n",
    "\n",
    "5) Change inappropriate formats"
   ]
  },
  {
   "cell_type": "code",
   "execution_count": 69,
   "metadata": {},
   "outputs": [],
   "source": [
    "# Objective 1: Remove the unnecessary columns\n",
    "df.drop(['id','homepage','tagline', 'keywords', 'overview', 'budget_adj', 'revenue_adj'], axis=1, inplace=True)"
   ]
  },
  {
   "cell_type": "code",
   "execution_count": 70,
   "metadata": {
    "scrolled": true
   },
   "outputs": [
    {
     "data": {
      "text/html": [
       "<div>\n",
       "<style>\n",
       "    .dataframe thead tr:only-child th {\n",
       "        text-align: right;\n",
       "    }\n",
       "\n",
       "    .dataframe thead th {\n",
       "        text-align: left;\n",
       "    }\n",
       "\n",
       "    .dataframe tbody tr th {\n",
       "        vertical-align: top;\n",
       "    }\n",
       "</style>\n",
       "<table border=\"1\" class=\"dataframe\">\n",
       "  <thead>\n",
       "    <tr style=\"text-align: right;\">\n",
       "      <th></th>\n",
       "      <th>imdb_id</th>\n",
       "      <th>popularity</th>\n",
       "      <th>budget</th>\n",
       "      <th>revenue</th>\n",
       "      <th>original_title</th>\n",
       "      <th>cast</th>\n",
       "      <th>director</th>\n",
       "      <th>runtime</th>\n",
       "      <th>genres</th>\n",
       "      <th>production_companies</th>\n",
       "      <th>release_date</th>\n",
       "      <th>vote_count</th>\n",
       "      <th>vote_average</th>\n",
       "      <th>release_year</th>\n",
       "    </tr>\n",
       "  </thead>\n",
       "  <tbody>\n",
       "    <tr>\n",
       "      <th>0</th>\n",
       "      <td>tt0369610</td>\n",
       "      <td>32.985763</td>\n",
       "      <td>150000000</td>\n",
       "      <td>1513528810</td>\n",
       "      <td>Jurassic World</td>\n",
       "      <td>Chris Pratt|Bryce Dallas Howard|Irrfan Khan|Vi...</td>\n",
       "      <td>Colin Trevorrow</td>\n",
       "      <td>124</td>\n",
       "      <td>Action|Adventure|Science Fiction|Thriller</td>\n",
       "      <td>Universal Studios|Amblin Entertainment|Legenda...</td>\n",
       "      <td>6/9/15</td>\n",
       "      <td>5562</td>\n",
       "      <td>6.5</td>\n",
       "      <td>2015</td>\n",
       "    </tr>\n",
       "    <tr>\n",
       "      <th>1</th>\n",
       "      <td>tt1392190</td>\n",
       "      <td>28.419936</td>\n",
       "      <td>150000000</td>\n",
       "      <td>378436354</td>\n",
       "      <td>Mad Max: Fury Road</td>\n",
       "      <td>Tom Hardy|Charlize Theron|Hugh Keays-Byrne|Nic...</td>\n",
       "      <td>George Miller</td>\n",
       "      <td>120</td>\n",
       "      <td>Action|Adventure|Science Fiction|Thriller</td>\n",
       "      <td>Village Roadshow Pictures|Kennedy Miller Produ...</td>\n",
       "      <td>5/13/15</td>\n",
       "      <td>6185</td>\n",
       "      <td>7.1</td>\n",
       "      <td>2015</td>\n",
       "    </tr>\n",
       "    <tr>\n",
       "      <th>2</th>\n",
       "      <td>tt2908446</td>\n",
       "      <td>13.112507</td>\n",
       "      <td>110000000</td>\n",
       "      <td>295238201</td>\n",
       "      <td>Insurgent</td>\n",
       "      <td>Shailene Woodley|Theo James|Kate Winslet|Ansel...</td>\n",
       "      <td>Robert Schwentke</td>\n",
       "      <td>119</td>\n",
       "      <td>Adventure|Science Fiction|Thriller</td>\n",
       "      <td>Summit Entertainment|Mandeville Films|Red Wago...</td>\n",
       "      <td>3/18/15</td>\n",
       "      <td>2480</td>\n",
       "      <td>6.3</td>\n",
       "      <td>2015</td>\n",
       "    </tr>\n",
       "    <tr>\n",
       "      <th>3</th>\n",
       "      <td>tt2488496</td>\n",
       "      <td>11.173104</td>\n",
       "      <td>200000000</td>\n",
       "      <td>2068178225</td>\n",
       "      <td>Star Wars: The Force Awakens</td>\n",
       "      <td>Harrison Ford|Mark Hamill|Carrie Fisher|Adam D...</td>\n",
       "      <td>J.J. Abrams</td>\n",
       "      <td>136</td>\n",
       "      <td>Action|Adventure|Science Fiction|Fantasy</td>\n",
       "      <td>Lucasfilm|Truenorth Productions|Bad Robot</td>\n",
       "      <td>12/15/15</td>\n",
       "      <td>5292</td>\n",
       "      <td>7.5</td>\n",
       "      <td>2015</td>\n",
       "    </tr>\n",
       "    <tr>\n",
       "      <th>4</th>\n",
       "      <td>tt2820852</td>\n",
       "      <td>9.335014</td>\n",
       "      <td>190000000</td>\n",
       "      <td>1506249360</td>\n",
       "      <td>Furious 7</td>\n",
       "      <td>Vin Diesel|Paul Walker|Jason Statham|Michelle ...</td>\n",
       "      <td>James Wan</td>\n",
       "      <td>137</td>\n",
       "      <td>Action|Crime|Thriller</td>\n",
       "      <td>Universal Pictures|Original Film|Media Rights ...</td>\n",
       "      <td>4/1/15</td>\n",
       "      <td>2947</td>\n",
       "      <td>7.3</td>\n",
       "      <td>2015</td>\n",
       "    </tr>\n",
       "  </tbody>\n",
       "</table>\n",
       "</div>"
      ],
      "text/plain": [
       "     imdb_id  popularity     budget     revenue                original_title  \\\n",
       "0  tt0369610   32.985763  150000000  1513528810                Jurassic World   \n",
       "1  tt1392190   28.419936  150000000   378436354            Mad Max: Fury Road   \n",
       "2  tt2908446   13.112507  110000000   295238201                     Insurgent   \n",
       "3  tt2488496   11.173104  200000000  2068178225  Star Wars: The Force Awakens   \n",
       "4  tt2820852    9.335014  190000000  1506249360                     Furious 7   \n",
       "\n",
       "                                                cast          director  \\\n",
       "0  Chris Pratt|Bryce Dallas Howard|Irrfan Khan|Vi...   Colin Trevorrow   \n",
       "1  Tom Hardy|Charlize Theron|Hugh Keays-Byrne|Nic...     George Miller   \n",
       "2  Shailene Woodley|Theo James|Kate Winslet|Ansel...  Robert Schwentke   \n",
       "3  Harrison Ford|Mark Hamill|Carrie Fisher|Adam D...       J.J. Abrams   \n",
       "4  Vin Diesel|Paul Walker|Jason Statham|Michelle ...         James Wan   \n",
       "\n",
       "   runtime                                     genres  \\\n",
       "0      124  Action|Adventure|Science Fiction|Thriller   \n",
       "1      120  Action|Adventure|Science Fiction|Thriller   \n",
       "2      119         Adventure|Science Fiction|Thriller   \n",
       "3      136   Action|Adventure|Science Fiction|Fantasy   \n",
       "4      137                      Action|Crime|Thriller   \n",
       "\n",
       "                                production_companies release_date  vote_count  \\\n",
       "0  Universal Studios|Amblin Entertainment|Legenda...       6/9/15        5562   \n",
       "1  Village Roadshow Pictures|Kennedy Miller Produ...      5/13/15        6185   \n",
       "2  Summit Entertainment|Mandeville Films|Red Wago...      3/18/15        2480   \n",
       "3          Lucasfilm|Truenorth Productions|Bad Robot     12/15/15        5292   \n",
       "4  Universal Pictures|Original Film|Media Rights ...       4/1/15        2947   \n",
       "\n",
       "   vote_average  release_year  \n",
       "0           6.5          2015  \n",
       "1           7.1          2015  \n",
       "2           6.3          2015  \n",
       "3           7.5          2015  \n",
       "4           7.3          2015  "
      ]
     },
     "execution_count": 70,
     "metadata": {},
     "output_type": "execute_result"
    }
   ],
   "source": [
    "df.head()"
   ]
  },
  {
   "cell_type": "code",
   "execution_count": 71,
   "metadata": {},
   "outputs": [
    {
     "data": {
      "text/plain": [
       "1"
      ]
     },
     "execution_count": 71,
     "metadata": {},
     "output_type": "execute_result"
    }
   ],
   "source": [
    "#objective 2: Remove any duplicates\n",
    "sum(df.duplicated())"
   ]
  },
  {
   "cell_type": "code",
   "execution_count": 72,
   "metadata": {},
   "outputs": [],
   "source": [
    "df.drop_duplicates(inplace=True)"
   ]
  },
  {
   "cell_type": "code",
   "execution_count": 73,
   "metadata": {},
   "outputs": [
    {
     "data": {
      "text/plain": [
       "imdb_id                   10\n",
       "popularity                 0\n",
       "budget                     0\n",
       "revenue                    0\n",
       "original_title             0\n",
       "cast                      76\n",
       "director                  44\n",
       "runtime                    0\n",
       "genres                    23\n",
       "production_companies    1030\n",
       "release_date               0\n",
       "vote_count                 0\n",
       "vote_average               0\n",
       "release_year               0\n",
       "dtype: int64"
      ]
     },
     "execution_count": 73,
     "metadata": {},
     "output_type": "execute_result"
    }
   ],
   "source": [
    "#Objective 3: Deal With missing data\n",
    "# First we need to check null values\n",
    "\n",
    "df.isnull().sum()"
   ]
  },
  {
   "cell_type": "code",
   "execution_count": 74,
   "metadata": {},
   "outputs": [],
   "source": [
    "#The best course of action would be to drop null values which have smaller amounts such as imdb_id, cast, director and\n",
    "#genres\n",
    "remove = ['imdb_id', 'cast', 'director', 'genres']\n",
    "df.dropna(subset= remove, how='any', inplace= True)"
   ]
  },
  {
   "cell_type": "code",
   "execution_count": 75,
   "metadata": {},
   "outputs": [
    {
     "data": {
      "text/plain": [
       "imdb_id                   0\n",
       "popularity                0\n",
       "budget                    0\n",
       "revenue                   0\n",
       "original_title            0\n",
       "cast                      0\n",
       "director                  0\n",
       "runtime                   0\n",
       "genres                    0\n",
       "production_companies    956\n",
       "release_date              0\n",
       "vote_count                0\n",
       "vote_average              0\n",
       "release_year              0\n",
       "dtype: int64"
      ]
     },
     "execution_count": 75,
     "metadata": {},
     "output_type": "execute_result"
    }
   ],
   "source": [
    "df.isnull().sum()"
   ]
  },
  {
   "cell_type": "code",
   "execution_count": 76,
   "metadata": {},
   "outputs": [],
   "source": [
    "#However when physically checking the data, there seems to be alot of 0 values. we need to replace them with NaN\n",
    "# I have noticed this most in budget, revenue and runtime\n",
    "change = ['budget', 'revenue', 'runtime']\n",
    "df[change] = df[change].replace(0,np.NaN)"
   ]
  },
  {
   "cell_type": "code",
   "execution_count": 77,
   "metadata": {},
   "outputs": [
    {
     "data": {
      "text/plain": [
       "imdb_id                    0\n",
       "popularity                 0\n",
       "budget                  5574\n",
       "revenue                 5883\n",
       "original_title             0\n",
       "cast                       0\n",
       "director                   0\n",
       "runtime                   28\n",
       "genres                     0\n",
       "production_companies     956\n",
       "release_date               0\n",
       "vote_count                 0\n",
       "vote_average               0\n",
       "release_year               0\n",
       "dtype: int64"
      ]
     },
     "execution_count": 77,
     "metadata": {},
     "output_type": "execute_result"
    }
   ],
   "source": [
    "df.isnull().sum()"
   ]
  },
  {
   "cell_type": "markdown",
   "metadata": {},
   "source": [
    "### Compromising volume for value\n",
    "\n",
    "It is quite disappointing to see that quite a large some of our key data has missing values. It does not seem viable to utilize rolling mean or other interpolation methods as this may skew our results. Therefore the most appropriate method seems to be to simply drop all missing data (This includes null values for production companies)"
   ]
  },
  {
   "cell_type": "code",
   "execution_count": 78,
   "metadata": {},
   "outputs": [],
   "source": [
    "#Dropping all missing data\n",
    "df.dropna(inplace=True)"
   ]
  },
  {
   "cell_type": "code",
   "execution_count": 79,
   "metadata": {},
   "outputs": [
    {
     "data": {
      "text/plain": [
       "imdb_id                 0\n",
       "popularity              0\n",
       "budget                  0\n",
       "revenue                 0\n",
       "original_title          0\n",
       "cast                    0\n",
       "director                0\n",
       "runtime                 0\n",
       "genres                  0\n",
       "production_companies    0\n",
       "release_date            0\n",
       "vote_count              0\n",
       "vote_average            0\n",
       "release_year            0\n",
       "dtype: int64"
      ]
     },
     "execution_count": 79,
     "metadata": {},
     "output_type": "execute_result"
    }
   ],
   "source": [
    "df.isnull().sum()"
   ]
  },
  {
   "cell_type": "code",
   "execution_count": 80,
   "metadata": {},
   "outputs": [
    {
     "data": {
      "text/plain": [
       "3805"
      ]
     },
     "execution_count": 80,
     "metadata": {},
     "output_type": "execute_result"
    }
   ],
   "source": [
    "len(df)"
   ]
  },
  {
   "cell_type": "code",
   "execution_count": 81,
   "metadata": {},
   "outputs": [],
   "source": [
    "# Object 4: Label Monetary Values; Since most of the movies listed are from Hollywood, we can assume the monetary figures\n",
    "# are in USD\n",
    "df.rename(columns = {'budget' : 'budget_in_USD', 'revenue' : 'revenue_in_USD'}, inplace = True)"
   ]
  },
  {
   "cell_type": "code",
   "execution_count": 82,
   "metadata": {},
   "outputs": [
    {
     "data": {
      "text/plain": [
       "imdb_id                  object\n",
       "popularity              float64\n",
       "budget_in_USD           float64\n",
       "revenue_in_USD          float64\n",
       "original_title           object\n",
       "cast                     object\n",
       "director                 object\n",
       "runtime                 float64\n",
       "genres                   object\n",
       "production_companies     object\n",
       "release_date             object\n",
       "vote_count                int64\n",
       "vote_average            float64\n",
       "release_year              int64\n",
       "dtype: object"
      ]
     },
     "execution_count": 82,
     "metadata": {},
     "output_type": "execute_result"
    }
   ],
   "source": [
    "# Objective 5: Change column formats to appropriate setting (budget and revenue to int and release date to datetime). \n",
    "df.dtypes"
   ]
  },
  {
   "cell_type": "code",
   "execution_count": 83,
   "metadata": {},
   "outputs": [],
   "source": [
    "df.release_date = pd.to_datetime(df['release_date'])"
   ]
  },
  {
   "cell_type": "code",
   "execution_count": 84,
   "metadata": {},
   "outputs": [],
   "source": [
    "switch = ['budget_in_USD', 'revenue_in_USD']\n",
    "df[switch] = df[switch].applymap(np.int64)"
   ]
  },
  {
   "cell_type": "code",
   "execution_count": 85,
   "metadata": {},
   "outputs": [
    {
     "data": {
      "text/plain": [
       "imdb_id                         object\n",
       "popularity                     float64\n",
       "budget_in_USD                    int64\n",
       "revenue_in_USD                   int64\n",
       "original_title                  object\n",
       "cast                            object\n",
       "director                        object\n",
       "runtime                        float64\n",
       "genres                          object\n",
       "production_companies            object\n",
       "release_date            datetime64[ns]\n",
       "vote_count                       int64\n",
       "vote_average                   float64\n",
       "release_year                     int64\n",
       "dtype: object"
      ]
     },
     "execution_count": 85,
     "metadata": {},
     "output_type": "execute_result"
    }
   ],
   "source": [
    "df.dtypes"
   ]
  },
  {
   "cell_type": "markdown",
   "metadata": {},
   "source": [
    "### Closing Remarks:\n",
    "\n",
    "Now the data has been properly formated, cleaned and prepped for the analysis protion of this report. Below I will analyze the data in full and attempt to answer the questions"
   ]
  },
  {
   "cell_type": "code",
   "execution_count": 86,
   "metadata": {},
   "outputs": [
    {
     "name": "stdout",
     "output_type": "stream",
     "text": [
      "<class 'pandas.core.frame.DataFrame'>\n",
      "Int64Index: 3805 entries, 0 to 10848\n",
      "Data columns (total 14 columns):\n",
      "imdb_id                 3805 non-null object\n",
      "popularity              3805 non-null float64\n",
      "budget_in_USD           3805 non-null int64\n",
      "revenue_in_USD          3805 non-null int64\n",
      "original_title          3805 non-null object\n",
      "cast                    3805 non-null object\n",
      "director                3805 non-null object\n",
      "runtime                 3805 non-null float64\n",
      "genres                  3805 non-null object\n",
      "production_companies    3805 non-null object\n",
      "release_date            3805 non-null datetime64[ns]\n",
      "vote_count              3805 non-null int64\n",
      "vote_average            3805 non-null float64\n",
      "release_year            3805 non-null int64\n",
      "dtypes: datetime64[ns](1), float64(3), int64(4), object(6)\n",
      "memory usage: 445.9+ KB\n"
     ]
    }
   ],
   "source": [
    "# The Data now looks like this:\n",
    "df.info()"
   ]
  },
  {
   "cell_type": "markdown",
   "metadata": {},
   "source": [
    "<a id='eda'></a>\n",
    "# Exploratory Data Analysis\n",
    "\n",
    "\n",
    "## Research Question 1: What factors attribute to creating a successful movie (In terms of profit earned)?"
   ]
  },
  {
   "cell_type": "code",
   "execution_count": 87,
   "metadata": {},
   "outputs": [
    {
     "data": {
      "text/html": [
       "<div>\n",
       "<style>\n",
       "    .dataframe thead tr:only-child th {\n",
       "        text-align: right;\n",
       "    }\n",
       "\n",
       "    .dataframe thead th {\n",
       "        text-align: left;\n",
       "    }\n",
       "\n",
       "    .dataframe tbody tr th {\n",
       "        vertical-align: top;\n",
       "    }\n",
       "</style>\n",
       "<table border=\"1\" class=\"dataframe\">\n",
       "  <thead>\n",
       "    <tr style=\"text-align: right;\">\n",
       "      <th></th>\n",
       "      <th>popularity</th>\n",
       "      <th>budget_in_USD</th>\n",
       "      <th>revenue_in_USD</th>\n",
       "      <th>runtime</th>\n",
       "      <th>vote_count</th>\n",
       "      <th>vote_average</th>\n",
       "      <th>release_year</th>\n",
       "    </tr>\n",
       "  </thead>\n",
       "  <tbody>\n",
       "    <tr>\n",
       "      <th>count</th>\n",
       "      <td>3805.000000</td>\n",
       "      <td>3.805000e+03</td>\n",
       "      <td>3.805000e+03</td>\n",
       "      <td>3805.000000</td>\n",
       "      <td>3805.000000</td>\n",
       "      <td>3805.000000</td>\n",
       "      <td>3805.000000</td>\n",
       "    </tr>\n",
       "    <tr>\n",
       "      <th>mean</th>\n",
       "      <td>1.203784</td>\n",
       "      <td>3.760800e+07</td>\n",
       "      <td>1.089734e+08</td>\n",
       "      <td>109.351117</td>\n",
       "      <td>534.159001</td>\n",
       "      <td>6.170565</td>\n",
       "      <td>2001.229172</td>\n",
       "    </tr>\n",
       "    <tr>\n",
       "      <th>std</th>\n",
       "      <td>1.480569</td>\n",
       "      <td>4.232179e+07</td>\n",
       "      <td>1.772976e+08</td>\n",
       "      <td>19.845678</td>\n",
       "      <td>883.757588</td>\n",
       "      <td>0.792437</td>\n",
       "      <td>11.329616</td>\n",
       "    </tr>\n",
       "    <tr>\n",
       "      <th>min</th>\n",
       "      <td>0.010335</td>\n",
       "      <td>1.000000e+00</td>\n",
       "      <td>2.000000e+00</td>\n",
       "      <td>15.000000</td>\n",
       "      <td>10.000000</td>\n",
       "      <td>2.200000</td>\n",
       "      <td>1960.000000</td>\n",
       "    </tr>\n",
       "    <tr>\n",
       "      <th>25%</th>\n",
       "      <td>0.470651</td>\n",
       "      <td>1.000000e+07</td>\n",
       "      <td>1.433379e+07</td>\n",
       "      <td>96.000000</td>\n",
       "      <td>74.000000</td>\n",
       "      <td>5.700000</td>\n",
       "      <td>1995.000000</td>\n",
       "    </tr>\n",
       "    <tr>\n",
       "      <th>50%</th>\n",
       "      <td>0.810805</td>\n",
       "      <td>2.500000e+07</td>\n",
       "      <td>4.621664e+07</td>\n",
       "      <td>106.000000</td>\n",
       "      <td>209.000000</td>\n",
       "      <td>6.200000</td>\n",
       "      <td>2004.000000</td>\n",
       "    </tr>\n",
       "    <tr>\n",
       "      <th>75%</th>\n",
       "      <td>1.387163</td>\n",
       "      <td>5.000000e+07</td>\n",
       "      <td>1.260695e+08</td>\n",
       "      <td>119.000000</td>\n",
       "      <td>584.000000</td>\n",
       "      <td>6.700000</td>\n",
       "      <td>2010.000000</td>\n",
       "    </tr>\n",
       "    <tr>\n",
       "      <th>max</th>\n",
       "      <td>32.985763</td>\n",
       "      <td>4.250000e+08</td>\n",
       "      <td>2.781506e+09</td>\n",
       "      <td>338.000000</td>\n",
       "      <td>9767.000000</td>\n",
       "      <td>8.400000</td>\n",
       "      <td>2015.000000</td>\n",
       "    </tr>\n",
       "  </tbody>\n",
       "</table>\n",
       "</div>"
      ],
      "text/plain": [
       "        popularity  budget_in_USD  revenue_in_USD      runtime   vote_count  \\\n",
       "count  3805.000000   3.805000e+03    3.805000e+03  3805.000000  3805.000000   \n",
       "mean      1.203784   3.760800e+07    1.089734e+08   109.351117   534.159001   \n",
       "std       1.480569   4.232179e+07    1.772976e+08    19.845678   883.757588   \n",
       "min       0.010335   1.000000e+00    2.000000e+00    15.000000    10.000000   \n",
       "25%       0.470651   1.000000e+07    1.433379e+07    96.000000    74.000000   \n",
       "50%       0.810805   2.500000e+07    4.621664e+07   106.000000   209.000000   \n",
       "75%       1.387163   5.000000e+07    1.260695e+08   119.000000   584.000000   \n",
       "max      32.985763   4.250000e+08    2.781506e+09   338.000000  9767.000000   \n",
       "\n",
       "       vote_average  release_year  \n",
       "count   3805.000000   3805.000000  \n",
       "mean       6.170565   2001.229172  \n",
       "std        0.792437     11.329616  \n",
       "min        2.200000   1960.000000  \n",
       "25%        5.700000   1995.000000  \n",
       "50%        6.200000   2004.000000  \n",
       "75%        6.700000   2010.000000  \n",
       "max        8.400000   2015.000000  "
      ]
     },
     "execution_count": 87,
     "metadata": {},
     "output_type": "execute_result"
    }
   ],
   "source": [
    "# To first begin answering this question, lets first begin with a general statistical understanding of our data\n",
    "\n",
    "df.describe()\n"
   ]
  },
  {
   "cell_type": "markdown",
   "metadata": {},
   "source": [
    "## Answer Strategy:\n",
    "\n",
    "The question posed is quite broad and needs to be broken down into smaller questions so that we may peace those pieces together for our final answer. I will attempt to answer the question by analysing relationships within the data that may directly or indirectly relate to gaining higher profit. The questions I will use are as follows:\n",
    "\n",
    "1) What are the most profitable movies released so far?\n",
    "\n",
    "* This will allow us to further clean the data and help us to only focus on the most profitable movies through the questions moving forward. \n",
    "\n",
    "2) What is the most profitable movie genre?\n",
    "\n",
    "3) What is the average runtime of the most profitable movie?\n",
    "\n",
    "4) Which Directors and Actors are most frequently associated with the most profitable movies?\n",
    "\n",
    "5) What month are the most profitable movies released in?\n",
    "\n",
    "With the available data, these parameters should prove to be sufficient in answer our overall question!"
   ]
  },
  {
   "cell_type": "markdown",
   "metadata": {},
   "source": [
    "### Question 1: What are the most profitable movies released so far?"
   ]
  },
  {
   "cell_type": "code",
   "execution_count": 88,
   "metadata": {},
   "outputs": [],
   "source": [
    "# Question 1: What are the most profitable movies released so far?\n",
    "# To answer this first we must creat a new column in the dataset calculating the movie profit (revenue - budget)\n",
    "\n",
    "df.insert(4, 'profit_in_USD', df['revenue_in_USD'] - df['budget_in_USD'])"
   ]
  },
  {
   "cell_type": "code",
   "execution_count": 89,
   "metadata": {},
   "outputs": [],
   "source": [
    "# Let also convert it to an int\n",
    "df['profit_in_USD'] = df['profit_in_USD'].apply(np.int64)\n"
   ]
  },
  {
   "cell_type": "code",
   "execution_count": 90,
   "metadata": {
    "scrolled": true
   },
   "outputs": [
    {
     "data": {
      "text/html": [
       "<div>\n",
       "<style>\n",
       "    .dataframe thead tr:only-child th {\n",
       "        text-align: right;\n",
       "    }\n",
       "\n",
       "    .dataframe thead th {\n",
       "        text-align: left;\n",
       "    }\n",
       "\n",
       "    .dataframe tbody tr th {\n",
       "        vertical-align: top;\n",
       "    }\n",
       "</style>\n",
       "<table border=\"1\" class=\"dataframe\">\n",
       "  <thead>\n",
       "    <tr style=\"text-align: right;\">\n",
       "      <th></th>\n",
       "      <th>imdb_id</th>\n",
       "      <th>popularity</th>\n",
       "      <th>budget_in_USD</th>\n",
       "      <th>revenue_in_USD</th>\n",
       "      <th>profit_in_USD</th>\n",
       "      <th>original_title</th>\n",
       "      <th>cast</th>\n",
       "      <th>director</th>\n",
       "      <th>runtime</th>\n",
       "      <th>genres</th>\n",
       "      <th>production_companies</th>\n",
       "      <th>release_date</th>\n",
       "      <th>vote_count</th>\n",
       "      <th>vote_average</th>\n",
       "      <th>release_year</th>\n",
       "    </tr>\n",
       "  </thead>\n",
       "  <tbody>\n",
       "    <tr>\n",
       "      <th>0</th>\n",
       "      <td>tt0369610</td>\n",
       "      <td>32.985763</td>\n",
       "      <td>150000000</td>\n",
       "      <td>1513528810</td>\n",
       "      <td>1363528810</td>\n",
       "      <td>Jurassic World</td>\n",
       "      <td>Chris Pratt|Bryce Dallas Howard|Irrfan Khan|Vi...</td>\n",
       "      <td>Colin Trevorrow</td>\n",
       "      <td>124.0</td>\n",
       "      <td>Action|Adventure|Science Fiction|Thriller</td>\n",
       "      <td>Universal Studios|Amblin Entertainment|Legenda...</td>\n",
       "      <td>2015-06-09</td>\n",
       "      <td>5562</td>\n",
       "      <td>6.5</td>\n",
       "      <td>2015</td>\n",
       "    </tr>\n",
       "  </tbody>\n",
       "</table>\n",
       "</div>"
      ],
      "text/plain": [
       "     imdb_id  popularity  budget_in_USD  revenue_in_USD  profit_in_USD  \\\n",
       "0  tt0369610   32.985763      150000000      1513528810     1363528810   \n",
       "\n",
       "   original_title                                               cast  \\\n",
       "0  Jurassic World  Chris Pratt|Bryce Dallas Howard|Irrfan Khan|Vi...   \n",
       "\n",
       "          director  runtime                                     genres  \\\n",
       "0  Colin Trevorrow    124.0  Action|Adventure|Science Fiction|Thriller   \n",
       "\n",
       "                                production_companies release_date  vote_count  \\\n",
       "0  Universal Studios|Amblin Entertainment|Legenda...   2015-06-09        5562   \n",
       "\n",
       "   vote_average  release_year  \n",
       "0           6.5          2015  "
      ]
     },
     "execution_count": 90,
     "metadata": {},
     "output_type": "execute_result"
    }
   ],
   "source": [
    "df.head(1)"
   ]
  },
  {
   "cell_type": "code",
   "execution_count": 91,
   "metadata": {
    "scrolled": true
   },
   "outputs": [
    {
     "data": {
      "text/html": [
       "<div>\n",
       "<style>\n",
       "    .dataframe thead tr:only-child th {\n",
       "        text-align: right;\n",
       "    }\n",
       "\n",
       "    .dataframe thead th {\n",
       "        text-align: left;\n",
       "    }\n",
       "\n",
       "    .dataframe tbody tr th {\n",
       "        vertical-align: top;\n",
       "    }\n",
       "</style>\n",
       "<table border=\"1\" class=\"dataframe\">\n",
       "  <thead>\n",
       "    <tr style=\"text-align: right;\">\n",
       "      <th></th>\n",
       "      <th>popularity</th>\n",
       "      <th>budget_in_USD</th>\n",
       "      <th>revenue_in_USD</th>\n",
       "      <th>profit_in_USD</th>\n",
       "      <th>runtime</th>\n",
       "      <th>vote_count</th>\n",
       "      <th>vote_average</th>\n",
       "      <th>release_year</th>\n",
       "    </tr>\n",
       "  </thead>\n",
       "  <tbody>\n",
       "    <tr>\n",
       "      <th>count</th>\n",
       "      <td>3805.000000</td>\n",
       "      <td>3.805000e+03</td>\n",
       "      <td>3.805000e+03</td>\n",
       "      <td>3.805000e+03</td>\n",
       "      <td>3805.000000</td>\n",
       "      <td>3805.000000</td>\n",
       "      <td>3805.000000</td>\n",
       "      <td>3805.000000</td>\n",
       "    </tr>\n",
       "    <tr>\n",
       "      <th>mean</th>\n",
       "      <td>1.203784</td>\n",
       "      <td>3.760800e+07</td>\n",
       "      <td>1.089734e+08</td>\n",
       "      <td>7.136540e+07</td>\n",
       "      <td>109.351117</td>\n",
       "      <td>534.159001</td>\n",
       "      <td>6.170565</td>\n",
       "      <td>2001.229172</td>\n",
       "    </tr>\n",
       "    <tr>\n",
       "      <th>std</th>\n",
       "      <td>1.480569</td>\n",
       "      <td>4.232179e+07</td>\n",
       "      <td>1.772976e+08</td>\n",
       "      <td>1.513764e+08</td>\n",
       "      <td>19.845678</td>\n",
       "      <td>883.757588</td>\n",
       "      <td>0.792437</td>\n",
       "      <td>11.329616</td>\n",
       "    </tr>\n",
       "    <tr>\n",
       "      <th>min</th>\n",
       "      <td>0.010335</td>\n",
       "      <td>1.000000e+00</td>\n",
       "      <td>2.000000e+00</td>\n",
       "      <td>-4.139124e+08</td>\n",
       "      <td>15.000000</td>\n",
       "      <td>10.000000</td>\n",
       "      <td>2.200000</td>\n",
       "      <td>1960.000000</td>\n",
       "    </tr>\n",
       "    <tr>\n",
       "      <th>25%</th>\n",
       "      <td>0.470651</td>\n",
       "      <td>1.000000e+07</td>\n",
       "      <td>1.433379e+07</td>\n",
       "      <td>-1.173477e+06</td>\n",
       "      <td>96.000000</td>\n",
       "      <td>74.000000</td>\n",
       "      <td>5.700000</td>\n",
       "      <td>1995.000000</td>\n",
       "    </tr>\n",
       "    <tr>\n",
       "      <th>50%</th>\n",
       "      <td>0.810805</td>\n",
       "      <td>2.500000e+07</td>\n",
       "      <td>4.621664e+07</td>\n",
       "      <td>2.047434e+07</td>\n",
       "      <td>106.000000</td>\n",
       "      <td>209.000000</td>\n",
       "      <td>6.200000</td>\n",
       "      <td>2004.000000</td>\n",
       "    </tr>\n",
       "    <tr>\n",
       "      <th>75%</th>\n",
       "      <td>1.387163</td>\n",
       "      <td>5.000000e+07</td>\n",
       "      <td>1.260695e+08</td>\n",
       "      <td>8.347333e+07</td>\n",
       "      <td>119.000000</td>\n",
       "      <td>584.000000</td>\n",
       "      <td>6.700000</td>\n",
       "      <td>2010.000000</td>\n",
       "    </tr>\n",
       "    <tr>\n",
       "      <th>max</th>\n",
       "      <td>32.985763</td>\n",
       "      <td>4.250000e+08</td>\n",
       "      <td>2.781506e+09</td>\n",
       "      <td>2.544506e+09</td>\n",
       "      <td>338.000000</td>\n",
       "      <td>9767.000000</td>\n",
       "      <td>8.400000</td>\n",
       "      <td>2015.000000</td>\n",
       "    </tr>\n",
       "  </tbody>\n",
       "</table>\n",
       "</div>"
      ],
      "text/plain": [
       "        popularity  budget_in_USD  revenue_in_USD  profit_in_USD      runtime  \\\n",
       "count  3805.000000   3.805000e+03    3.805000e+03   3.805000e+03  3805.000000   \n",
       "mean      1.203784   3.760800e+07    1.089734e+08   7.136540e+07   109.351117   \n",
       "std       1.480569   4.232179e+07    1.772976e+08   1.513764e+08    19.845678   \n",
       "min       0.010335   1.000000e+00    2.000000e+00  -4.139124e+08    15.000000   \n",
       "25%       0.470651   1.000000e+07    1.433379e+07  -1.173477e+06    96.000000   \n",
       "50%       0.810805   2.500000e+07    4.621664e+07   2.047434e+07   106.000000   \n",
       "75%       1.387163   5.000000e+07    1.260695e+08   8.347333e+07   119.000000   \n",
       "max      32.985763   4.250000e+08    2.781506e+09   2.544506e+09   338.000000   \n",
       "\n",
       "        vote_count  vote_average  release_year  \n",
       "count  3805.000000   3805.000000   3805.000000  \n",
       "mean    534.159001      6.170565   2001.229172  \n",
       "std     883.757588      0.792437     11.329616  \n",
       "min      10.000000      2.200000   1960.000000  \n",
       "25%      74.000000      5.700000   1995.000000  \n",
       "50%     209.000000      6.200000   2004.000000  \n",
       "75%     584.000000      6.700000   2010.000000  \n",
       "max    9767.000000      8.400000   2015.000000  "
      ]
     },
     "execution_count": 91,
     "metadata": {},
     "output_type": "execute_result"
    }
   ],
   "source": [
    "# Now lets set a scope for what should be the minimum for a movie to be considered 'profitable'\n",
    "\n",
    "df.describe()"
   ]
  },
  {
   "cell_type": "markdown",
   "metadata": {},
   "source": [
    "The 50th percentile seems to show the profit to be approximately $20.5M. Thus we will also consider this to be the base line for the most profitable movies."
   ]
  },
  {
   "cell_type": "code",
   "execution_count": 92,
   "metadata": {
    "scrolled": true
   },
   "outputs": [
    {
     "data": {
      "text/html": [
       "<div>\n",
       "<style>\n",
       "    .dataframe thead tr:only-child th {\n",
       "        text-align: right;\n",
       "    }\n",
       "\n",
       "    .dataframe thead th {\n",
       "        text-align: left;\n",
       "    }\n",
       "\n",
       "    .dataframe tbody tr th {\n",
       "        vertical-align: top;\n",
       "    }\n",
       "</style>\n",
       "<table border=\"1\" class=\"dataframe\">\n",
       "  <thead>\n",
       "    <tr style=\"text-align: right;\">\n",
       "      <th></th>\n",
       "      <th>imdb_id</th>\n",
       "      <th>popularity</th>\n",
       "      <th>budget_in_USD</th>\n",
       "      <th>revenue_in_USD</th>\n",
       "      <th>profit_in_USD</th>\n",
       "      <th>original_title</th>\n",
       "      <th>cast</th>\n",
       "      <th>director</th>\n",
       "      <th>runtime</th>\n",
       "      <th>genres</th>\n",
       "      <th>production_companies</th>\n",
       "      <th>release_date</th>\n",
       "      <th>vote_count</th>\n",
       "      <th>vote_average</th>\n",
       "      <th>release_year</th>\n",
       "    </tr>\n",
       "  </thead>\n",
       "  <tbody>\n",
       "    <tr>\n",
       "      <th>1</th>\n",
       "      <td>tt0369610</td>\n",
       "      <td>32.985763</td>\n",
       "      <td>150000000</td>\n",
       "      <td>1513528810</td>\n",
       "      <td>1363528810</td>\n",
       "      <td>Jurassic World</td>\n",
       "      <td>Chris Pratt|Bryce Dallas Howard|Irrfan Khan|Vi...</td>\n",
       "      <td>Colin Trevorrow</td>\n",
       "      <td>124.0</td>\n",
       "      <td>Action|Adventure|Science Fiction|Thriller</td>\n",
       "      <td>Universal Studios|Amblin Entertainment|Legenda...</td>\n",
       "      <td>2015-06-09</td>\n",
       "      <td>5562</td>\n",
       "      <td>6.5</td>\n",
       "      <td>2015</td>\n",
       "    </tr>\n",
       "    <tr>\n",
       "      <th>2</th>\n",
       "      <td>tt1392190</td>\n",
       "      <td>28.419936</td>\n",
       "      <td>150000000</td>\n",
       "      <td>378436354</td>\n",
       "      <td>228436354</td>\n",
       "      <td>Mad Max: Fury Road</td>\n",
       "      <td>Tom Hardy|Charlize Theron|Hugh Keays-Byrne|Nic...</td>\n",
       "      <td>George Miller</td>\n",
       "      <td>120.0</td>\n",
       "      <td>Action|Adventure|Science Fiction|Thriller</td>\n",
       "      <td>Village Roadshow Pictures|Kennedy Miller Produ...</td>\n",
       "      <td>2015-05-13</td>\n",
       "      <td>6185</td>\n",
       "      <td>7.1</td>\n",
       "      <td>2015</td>\n",
       "    </tr>\n",
       "    <tr>\n",
       "      <th>3</th>\n",
       "      <td>tt2908446</td>\n",
       "      <td>13.112507</td>\n",
       "      <td>110000000</td>\n",
       "      <td>295238201</td>\n",
       "      <td>185238201</td>\n",
       "      <td>Insurgent</td>\n",
       "      <td>Shailene Woodley|Theo James|Kate Winslet|Ansel...</td>\n",
       "      <td>Robert Schwentke</td>\n",
       "      <td>119.0</td>\n",
       "      <td>Adventure|Science Fiction|Thriller</td>\n",
       "      <td>Summit Entertainment|Mandeville Films|Red Wago...</td>\n",
       "      <td>2015-03-18</td>\n",
       "      <td>2480</td>\n",
       "      <td>6.3</td>\n",
       "      <td>2015</td>\n",
       "    </tr>\n",
       "    <tr>\n",
       "      <th>4</th>\n",
       "      <td>tt2488496</td>\n",
       "      <td>11.173104</td>\n",
       "      <td>200000000</td>\n",
       "      <td>2068178225</td>\n",
       "      <td>1868178225</td>\n",
       "      <td>Star Wars: The Force Awakens</td>\n",
       "      <td>Harrison Ford|Mark Hamill|Carrie Fisher|Adam D...</td>\n",
       "      <td>J.J. Abrams</td>\n",
       "      <td>136.0</td>\n",
       "      <td>Action|Adventure|Science Fiction|Fantasy</td>\n",
       "      <td>Lucasfilm|Truenorth Productions|Bad Robot</td>\n",
       "      <td>2015-12-15</td>\n",
       "      <td>5292</td>\n",
       "      <td>7.5</td>\n",
       "      <td>2015</td>\n",
       "    </tr>\n",
       "    <tr>\n",
       "      <th>5</th>\n",
       "      <td>tt2820852</td>\n",
       "      <td>9.335014</td>\n",
       "      <td>190000000</td>\n",
       "      <td>1506249360</td>\n",
       "      <td>1316249360</td>\n",
       "      <td>Furious 7</td>\n",
       "      <td>Vin Diesel|Paul Walker|Jason Statham|Michelle ...</td>\n",
       "      <td>James Wan</td>\n",
       "      <td>137.0</td>\n",
       "      <td>Action|Crime|Thriller</td>\n",
       "      <td>Universal Pictures|Original Film|Media Rights ...</td>\n",
       "      <td>2015-04-01</td>\n",
       "      <td>2947</td>\n",
       "      <td>7.3</td>\n",
       "      <td>2015</td>\n",
       "    </tr>\n",
       "  </tbody>\n",
       "</table>\n",
       "</div>"
      ],
      "text/plain": [
       "     imdb_id  popularity  budget_in_USD  revenue_in_USD  profit_in_USD  \\\n",
       "1  tt0369610   32.985763      150000000      1513528810     1363528810   \n",
       "2  tt1392190   28.419936      150000000       378436354      228436354   \n",
       "3  tt2908446   13.112507      110000000       295238201      185238201   \n",
       "4  tt2488496   11.173104      200000000      2068178225     1868178225   \n",
       "5  tt2820852    9.335014      190000000      1506249360     1316249360   \n",
       "\n",
       "                 original_title  \\\n",
       "1                Jurassic World   \n",
       "2            Mad Max: Fury Road   \n",
       "3                     Insurgent   \n",
       "4  Star Wars: The Force Awakens   \n",
       "5                     Furious 7   \n",
       "\n",
       "                                                cast          director  \\\n",
       "1  Chris Pratt|Bryce Dallas Howard|Irrfan Khan|Vi...   Colin Trevorrow   \n",
       "2  Tom Hardy|Charlize Theron|Hugh Keays-Byrne|Nic...     George Miller   \n",
       "3  Shailene Woodley|Theo James|Kate Winslet|Ansel...  Robert Schwentke   \n",
       "4  Harrison Ford|Mark Hamill|Carrie Fisher|Adam D...       J.J. Abrams   \n",
       "5  Vin Diesel|Paul Walker|Jason Statham|Michelle ...         James Wan   \n",
       "\n",
       "   runtime                                     genres  \\\n",
       "1    124.0  Action|Adventure|Science Fiction|Thriller   \n",
       "2    120.0  Action|Adventure|Science Fiction|Thriller   \n",
       "3    119.0         Adventure|Science Fiction|Thriller   \n",
       "4    136.0   Action|Adventure|Science Fiction|Fantasy   \n",
       "5    137.0                      Action|Crime|Thriller   \n",
       "\n",
       "                                production_companies release_date  vote_count  \\\n",
       "1  Universal Studios|Amblin Entertainment|Legenda...   2015-06-09        5562   \n",
       "2  Village Roadshow Pictures|Kennedy Miller Produ...   2015-05-13        6185   \n",
       "3  Summit Entertainment|Mandeville Films|Red Wago...   2015-03-18        2480   \n",
       "4          Lucasfilm|Truenorth Productions|Bad Robot   2015-12-15        5292   \n",
       "5  Universal Pictures|Original Film|Media Rights ...   2015-04-01        2947   \n",
       "\n",
       "   vote_average  release_year  \n",
       "1           6.5          2015  \n",
       "2           7.1          2015  \n",
       "3           6.3          2015  \n",
       "4           7.5          2015  \n",
       "5           7.3          2015  "
      ]
     },
     "execution_count": 92,
     "metadata": {},
     "output_type": "execute_result"
    }
   ],
   "source": [
    "#New DataFrame\n",
    "df_profit = df[df['profit_in_USD'] >= 20500000]\n",
    "\n",
    "# Re-indexing\n",
    "df_profit.index = range(len(df_profit))\n",
    "\n",
    "# Initializinf from 1\n",
    "df_profit.index = df_profit.index + 1\n",
    "\n",
    "#The new Dataset to answer the overal question!\n",
    "df_profit.head()"
   ]
  },
  {
   "cell_type": "code",
   "execution_count": 93,
   "metadata": {
    "scrolled": true
   },
   "outputs": [
    {
     "name": "stdout",
     "output_type": "stream",
     "text": [
      "<class 'pandas.core.frame.DataFrame'>\n",
      "RangeIndex: 1901 entries, 1 to 1901\n",
      "Data columns (total 15 columns):\n",
      "imdb_id                 1901 non-null object\n",
      "popularity              1901 non-null float64\n",
      "budget_in_USD           1901 non-null int64\n",
      "revenue_in_USD          1901 non-null int64\n",
      "profit_in_USD           1901 non-null int64\n",
      "original_title          1901 non-null object\n",
      "cast                    1901 non-null object\n",
      "director                1901 non-null object\n",
      "runtime                 1901 non-null float64\n",
      "genres                  1901 non-null object\n",
      "production_companies    1901 non-null object\n",
      "release_date            1901 non-null datetime64[ns]\n",
      "vote_count              1901 non-null int64\n",
      "vote_average            1901 non-null float64\n",
      "release_year            1901 non-null int64\n",
      "dtypes: datetime64[ns](1), float64(3), int64(5), object(6)\n",
      "memory usage: 222.9+ KB\n"
     ]
    }
   ],
   "source": [
    "df_profit.info()"
   ]
  },
  {
   "cell_type": "code",
   "execution_count": 94,
   "metadata": {},
   "outputs": [
    {
     "data": {
      "text/plain": [
       "1901"
      ]
     },
     "execution_count": 94,
     "metadata": {},
     "output_type": "execute_result"
    }
   ],
   "source": [
    "len(df_profit)"
   ]
  },
  {
   "cell_type": "markdown",
   "metadata": {},
   "source": [
    "Our new dataset now only has 1901 entries. This will now be the basis of all further analysis regarding the overall question."
   ]
  },
  {
   "cell_type": "markdown",
   "metadata": {},
   "source": [
    "### Question 2: What is the most profitable movie genre?"
   ]
  },
  {
   "cell_type": "code",
   "execution_count": 95,
   "metadata": {},
   "outputs": [],
   "source": [
    "# This function will help us extract the data we need for the questions to come:\n",
    "def extract(column_name):\n",
    "    extract = df_profit[column_name].str.cat(sep = '|')\n",
    "    extract = pd.Series(extract.split('|'))\n",
    "    count = extract.value_counts(ascending = False)\n",
    "    \n",
    "    return count"
   ]
  },
  {
   "cell_type": "code",
   "execution_count": 96,
   "metadata": {},
   "outputs": [
    {
     "data": {
      "text/plain": [
       "Drama        743\n",
       "Comedy       687\n",
       "Action       593\n",
       "Thriller     578\n",
       "Adventure    467\n",
       "dtype: int64"
      ]
     },
     "execution_count": 96,
     "metadata": {},
     "output_type": "execute_result"
    }
   ],
   "source": [
    "genre = extract('genres')\n",
    "\n",
    "genre.head()"
   ]
  },
  {
   "cell_type": "code",
   "execution_count": 97,
   "metadata": {},
   "outputs": [
    {
     "data": {
      "image/png": "[encoded data removed]",
      "text/plain": [
       "<matplotlib.figure.Figure at 0x7f5ecc26ec88>"
      ]
     },
     "metadata": {},
     "output_type": "display_data"
    }
   ],
   "source": [
    "#plotting\n",
    "genre.sort_values(ascending = False, inplace = True)\n",
    "\n",
    "#ploting\n",
    "genre_graph = genre.plot.bar(color = '#007482', fontsize = 13)\n",
    "\n",
    "#title\n",
    "genre_graph.set(title = 'Most Profitable Genres')\n",
    "\n",
    "# X axis\n",
    "genre_graph.set_xlabel('Genre Type', color = 'black', fontsize = '18')\n",
    "\n",
    "# Y axis\n",
    "genre_graph.set_ylabel('Movie Count', color = 'black' , fontsize = '18')\n",
    "\n",
    "#figure size(width, height)\n",
    "genre_graph.figure.set_size_inches(12, 6)\n",
    "\n",
    "#ploting the graph\n",
    "plt.show()"
   ]
  },
  {
   "cell_type": "markdown",
   "metadata": {},
   "source": [
    "As we can see the most common type of movie that is profitable is Drama, followed by Commedy and then Action"
   ]
  },
  {
   "cell_type": "markdown",
   "metadata": {},
   "source": [
    "### Question 3: What is the average runtime of the most profitable movie?"
   ]
  },
  {
   "cell_type": "code",
   "execution_count": 98,
   "metadata": {},
   "outputs": [
    {
     "data": {
      "text/plain": [
       "112.27564439768543"
      ]
     },
     "execution_count": 98,
     "metadata": {},
     "output_type": "execute_result"
    }
   ],
   "source": [
    "# New func for avg\n",
    "def runtime_avg_func(column_name):\n",
    "    return df_profit[column_name].mean()\n",
    "\n",
    "runtime_avg_func('runtime')"
   ]
  },
  {
   "cell_type": "markdown",
   "metadata": {},
   "source": [
    "It seems that the most profitable movies also have an on average runtime of 112mins. To further review this, let visualize what this may look like:"
   ]
  },
  {
   "cell_type": "code",
   "execution_count": 104,
   "metadata": {},
   "outputs": [
    {
     "data": {
      "image/png": "[encoded data removed]",
      "text/plain": [
       "<matplotlib.figure.Figure at 0x7f5ecd26a748>"
      ]
     },
     "metadata": {},
     "output_type": "display_data"
    }
   ],
   "source": [
    "#Seaborn box plot function\n",
    "sns.boxplot(df_profit['runtime'], linewidth = 5)\n",
    "plt.show()"
   ]
  },
  {
   "cell_type": "markdown",
   "metadata": {},
   "source": [
    "As we have analyzed further, the best ratio seems to be between 100 and 125 mins. However some outliers have appeared."
   ]
  },
  {
   "cell_type": "markdown",
   "metadata": {},
   "source": [
    "### Question 4: Which Directors and Actors are most frequently associated with the most profitable movies?"
   ]
  },
  {
   "cell_type": "code",
   "execution_count": 105,
   "metadata": {},
   "outputs": [
    {
     "data": {
      "text/plain": [
       "Steven Spielberg    25\n",
       "Clint Eastwood      19\n",
       "Tim Burton          15\n",
       "Robert Zemeckis     14\n",
       "Ridley Scott        13\n",
       "dtype: int64"
      ]
     },
     "execution_count": 105,
     "metadata": {},
     "output_type": "execute_result"
    }
   ],
   "source": [
    "directors = extract('director')\n",
    "\n",
    "directors.head()"
   ]
  },
  {
   "cell_type": "code",
   "execution_count": 106,
   "metadata": {},
   "outputs": [
    {
     "data": {
      "text/plain": [
       "Tom Cruise        30\n",
       "Brad Pitt         29\n",
       "Tom Hanks         28\n",
       "Robert De Niro    27\n",
       "Bruce Willis      26\n",
       "dtype: int64"
      ]
     },
     "execution_count": 106,
     "metadata": {},
     "output_type": "execute_result"
    }
   ],
   "source": [
    "actors = extract ('cast')\n",
    "\n",
    "actors.head()"
   ]
  },
  {
   "cell_type": "markdown",
   "metadata": {},
   "source": [
    "So it seems the most frequent actors of the most profitable movies are Tom Cruise, Brad Pitt and Tomm Hanks and the most profitable directors are Steven Speilberg, Clint Eastwood and Tim Burton"
   ]
  },
  {
   "cell_type": "markdown",
   "metadata": {},
   "source": [
    "### Question 5: What month are the most profitable movies released in?"
   ]
  },
  {
   "cell_type": "code",
   "execution_count": 107,
   "metadata": {},
   "outputs": [],
   "source": [
    "#Indexing Release Date\n",
    "IRD = df_profit.set_index('release_date')\n",
    "\n",
    "# grouping all the data by month\n",
    "groupby_index = IRD.groupby([(IRD.index.month)])\n",
    "\n",
    "#No. of Movies released in each month\n",
    "movie_count = groupby_index['profit_in_USD'].count()\n",
    "\n",
    "#converting table to dataframe\n",
    "movie_count= pd.DataFrame(movie_count)\n",
    "\n",
    "#Month List\n",
    "month_list = ['January', 'February', 'March', 'April', 'May', 'June', 'July', 'August', 'September', 'October', 'November', 'December']\n"
   ]
  },
  {
   "cell_type": "code",
   "execution_count": 108,
   "metadata": {},
   "outputs": [
    {
     "data": {
      "image/png": "[encoded data removed]",
      "text/plain": [
       "<matplotlib.figure.Figure at 0x7f5eccf1d208>"
      ]
     },
     "metadata": {},
     "output_type": "display_data"
    }
   ],
   "source": [
    "#adding profit value to the group by months\n",
    "df_profit = groupby_index['profit_in_USD'].sum()\n",
    "\n",
    "#converting table to a dataframe\n",
    "df_profit = pd.DataFrame(df_profit)\n",
    "\n",
    "#using seaborn to visualize our data\n",
    "df_profit_bar = sns.barplot(x = df_profit.index, y = df_profit['profit_in_USD'], data = df_profit)\n",
    "sns.set_style(\"darkgrid\")\n",
    "\n",
    "#Graph Sizing\n",
    "df_profit_bar.figure.set_size_inches(12,6)\n",
    "\n",
    "#Title\n",
    "df_profit_bar.axes.set_title('Profits per Release Month', fontsize = 22, alpha = 0.6)\n",
    "\n",
    "# X label\n",
    "df_profit_bar.set_xlabel(\"Month\", fontsize = 18)\n",
    "\n",
    "#Y label\n",
    "df_profit_bar.set_ylabel(\"Profit\", fontsize = 18)\n",
    "\n",
    "#axes values\n",
    "df_profit_bar.tick_params(labelsize = 12, labelcolor=\"black\")\n",
    "\n",
    "#rotating the x-axis values\n",
    "df_profit_bar.set_xticklabels(month_list, rotation = 90, size = 18)\n",
    "\n",
    "#plot function\n",
    "plt.show()"
   ]
  },
  {
   "cell_type": "markdown",
   "metadata": {},
   "source": [
    "It seems that the month which released the most number of profitable movies is June "
   ]
  },
  {
   "cell_type": "markdown",
   "metadata": {},
   "source": [
    "## Answer to Research Question 1:\n",
    "\n",
    "* Based on the Data\n",
    "\n",
    "To create a successful film, The movie would have to have the following properties:\n",
    "\n",
    "1) Be a Drama, Comedy, Action of Thriller Movie\n",
    "\n",
    "2) Run at a lenght around 112mins\n",
    "\n",
    "3) Star Tom Cruise, Brad Pitt or Tom Hanks while being directed by Steven Speilberg, Clint Eastwood or Tim Burton\n",
    "\n",
    "4) The movie would also have to be released either in the month of June or secondarily December\n",
    "\n",
    "These are not neccessarily the be all formula for a successfull film but it can definitly help!"
   ]
  },
  {
   "cell_type": "markdown",
   "metadata": {},
   "source": [
    "## Research Question 2 : Is there a correlation between the rating of a movie and revenue earned"
   ]
  },
  {
   "cell_type": "code",
   "execution_count": 109,
   "metadata": {
    "scrolled": false
   },
   "outputs": [
    {
     "data": {
      "text/html": [
       "<div>\n",
       "<style>\n",
       "    .dataframe thead tr:only-child th {\n",
       "        text-align: right;\n",
       "    }\n",
       "\n",
       "    .dataframe thead th {\n",
       "        text-align: left;\n",
       "    }\n",
       "\n",
       "    .dataframe tbody tr th {\n",
       "        vertical-align: top;\n",
       "    }\n",
       "</style>\n",
       "<table border=\"1\" class=\"dataframe\">\n",
       "  <thead>\n",
       "    <tr style=\"text-align: right;\">\n",
       "      <th></th>\n",
       "      <th>popularity</th>\n",
       "      <th>budget_in_USD</th>\n",
       "      <th>revenue_in_USD</th>\n",
       "      <th>profit_in_USD</th>\n",
       "      <th>runtime</th>\n",
       "      <th>vote_count</th>\n",
       "      <th>vote_average</th>\n",
       "      <th>release_year</th>\n",
       "    </tr>\n",
       "  </thead>\n",
       "  <tbody>\n",
       "    <tr>\n",
       "      <th>popularity</th>\n",
       "      <td>1.000000</td>\n",
       "      <td>0.443626</td>\n",
       "      <td>0.613793</td>\n",
       "      <td>0.594868</td>\n",
       "      <td>0.213690</td>\n",
       "      <td>0.779125</td>\n",
       "      <td>0.319927</td>\n",
       "      <td>0.175991</td>\n",
       "    </tr>\n",
       "    <tr>\n",
       "      <th>budget_in_USD</th>\n",
       "      <td>0.443626</td>\n",
       "      <td>1.000000</td>\n",
       "      <td>0.687059</td>\n",
       "      <td>0.525128</td>\n",
       "      <td>0.259562</td>\n",
       "      <td>0.554689</td>\n",
       "      <td>0.022945</td>\n",
       "      <td>0.271915</td>\n",
       "    </tr>\n",
       "    <tr>\n",
       "      <th>revenue_in_USD</th>\n",
       "      <td>0.613793</td>\n",
       "      <td>0.687059</td>\n",
       "      <td>1.000000</td>\n",
       "      <td>0.979149</td>\n",
       "      <td>0.249178</td>\n",
       "      <td>0.753574</td>\n",
       "      <td>0.228051</td>\n",
       "      <td>0.141317</td>\n",
       "    </tr>\n",
       "    <tr>\n",
       "      <th>profit_in_USD</th>\n",
       "      <td>0.594868</td>\n",
       "      <td>0.525128</td>\n",
       "      <td>0.979149</td>\n",
       "      <td>1.000000</td>\n",
       "      <td>0.219278</td>\n",
       "      <td>0.727533</td>\n",
       "      <td>0.260687</td>\n",
       "      <td>0.089493</td>\n",
       "    </tr>\n",
       "    <tr>\n",
       "      <th>runtime</th>\n",
       "      <td>0.213690</td>\n",
       "      <td>0.259562</td>\n",
       "      <td>0.249178</td>\n",
       "      <td>0.219278</td>\n",
       "      <td>1.000000</td>\n",
       "      <td>0.273464</td>\n",
       "      <td>0.359173</td>\n",
       "      <td>-0.113488</td>\n",
       "    </tr>\n",
       "    <tr>\n",
       "      <th>vote_count</th>\n",
       "      <td>0.779125</td>\n",
       "      <td>0.554689</td>\n",
       "      <td>0.753574</td>\n",
       "      <td>0.727533</td>\n",
       "      <td>0.273464</td>\n",
       "      <td>1.000000</td>\n",
       "      <td>0.389853</td>\n",
       "      <td>0.209688</td>\n",
       "    </tr>\n",
       "    <tr>\n",
       "      <th>vote_average</th>\n",
       "      <td>0.319927</td>\n",
       "      <td>0.022945</td>\n",
       "      <td>0.228051</td>\n",
       "      <td>0.260687</td>\n",
       "      <td>0.359173</td>\n",
       "      <td>0.389853</td>\n",
       "      <td>1.000000</td>\n",
       "      <td>-0.135646</td>\n",
       "    </tr>\n",
       "    <tr>\n",
       "      <th>release_year</th>\n",
       "      <td>0.175991</td>\n",
       "      <td>0.271915</td>\n",
       "      <td>0.141317</td>\n",
       "      <td>0.089493</td>\n",
       "      <td>-0.113488</td>\n",
       "      <td>0.209688</td>\n",
       "      <td>-0.135646</td>\n",
       "      <td>1.000000</td>\n",
       "    </tr>\n",
       "  </tbody>\n",
       "</table>\n",
       "</div>"
      ],
      "text/plain": [
       "                popularity  budget_in_USD  revenue_in_USD  profit_in_USD  \\\n",
       "popularity        1.000000       0.443626        0.613793       0.594868   \n",
       "budget_in_USD     0.443626       1.000000        0.687059       0.525128   \n",
       "revenue_in_USD    0.613793       0.687059        1.000000       0.979149   \n",
       "profit_in_USD     0.594868       0.525128        0.979149       1.000000   \n",
       "runtime           0.213690       0.259562        0.249178       0.219278   \n",
       "vote_count        0.779125       0.554689        0.753574       0.727533   \n",
       "vote_average      0.319927       0.022945        0.228051       0.260687   \n",
       "release_year      0.175991       0.271915        0.141317       0.089493   \n",
       "\n",
       "                 runtime  vote_count  vote_average  release_year  \n",
       "popularity      0.213690    0.779125      0.319927      0.175991  \n",
       "budget_in_USD   0.259562    0.554689      0.022945      0.271915  \n",
       "revenue_in_USD  0.249178    0.753574      0.228051      0.141317  \n",
       "profit_in_USD   0.219278    0.727533      0.260687      0.089493  \n",
       "runtime         1.000000    0.273464      0.359173     -0.113488  \n",
       "vote_count      0.273464    1.000000      0.389853      0.209688  \n",
       "vote_average    0.359173    0.389853      1.000000     -0.135646  \n",
       "release_year   -0.113488    0.209688     -0.135646      1.000000  "
      ]
     },
     "execution_count": 109,
     "metadata": {},
     "output_type": "execute_result"
    }
   ],
   "source": [
    "# Firstly lets begin again with a general overview of the data\n",
    "df.corr(method='pearson')"
   ]
  },
  {
   "cell_type": "markdown",
   "metadata": {},
   "source": [
    "If we consider vote counts to be objective, then it is observable that there is a possitive correlation between vote counts and the revenue. There is a positive correlation of 0.753574."
   ]
  },
  {
   "cell_type": "code",
   "execution_count": 110,
   "metadata": {},
   "outputs": [
    {
     "data": {
      "text/plain": [
       "<matplotlib.axes._subplots.AxesSubplot at 0x7f5eccf0dcc0>"
      ]
     },
     "execution_count": 110,
     "metadata": {},
     "output_type": "execute_result"
    },
    {
     "data": {
      "image/png": "[encoded data removed]",
      "text/plain": [
       "<matplotlib.figure.Figure at 0x7f5ecc6c7c88>"
      ]
     },
     "metadata": {},
     "output_type": "display_data"
    }
   ],
   "source": [
    "#If we further apply a scatter graph then the distinction is even more apparent\n",
    "sns.regplot(x=df['vote_count'], y=df['revenue_in_USD'])"
   ]
  },
  {
   "cell_type": "markdown",
   "metadata": {},
   "source": [
    "The graph further confirms our theory as the regression line is also positive. However there may not neccesarily be a correlation between the data and it may just be that the for the limited instances which we have analysed, correlated in such a manner.  "
   ]
  },
  {
   "cell_type": "markdown",
   "metadata": {},
   "source": [
    "<a id='conclusions'></a>\n",
    "## Conclusions\n",
    "\n",
    "In conclusion the results of the research questions were answered to the best of my abilities and the answers to the questions can be found in their respective sections. Some shorcomings with this project may be that due to the data cleaning, the actual volume of data analyzed had significatly been cut. This may have skewed the results but it was a neccesary risk in order to get as much complete data as possible. \n",
    "\n",
    "## Submitting your Project \n",
    "\n",
    "> Before you submit your project, you need to create a .html or .pdf version of this notebook in the workspace here. To do that, run the code cell below. If it worked correctly, you should get a return code of 0, and you should see the generated .html file in the workspace directory (click on the orange Jupyter icon in the upper left).\n",
    "\n",
    "> Alternatively, you can download this report as .html via the **File** > **Download as** submenu, and then manually upload it into the workspace directory by clicking on the orange Jupyter icon in the upper left, then using the Upload button.\n",
    "\n",
    "> Once you've done this, you can submit your project by clicking on the \"Submit Project\" button in the lower right here. This will create and submit a zip file with this .ipynb doc and the .html or .pdf version you created. Congratulations!"
   ]
  },
  {
   "cell_type": "code",
   "execution_count": 111,
   "metadata": {},
   "outputs": [
    {
     "data": {
      "text/plain": [
       "0"
      ]
     },
     "execution_count": 111,
     "metadata": {},
     "output_type": "execute_result"
    }
   ],
   "source": [
    "from subprocess import call\n",
    "call(['python', '-m', 'nbconvert', 'Investigate_a_Dataset.ipynb'])"
   ]
  },
  {
   "cell_type": "code",
   "execution_count": null,
   "metadata": {},
   "outputs": [],
   "source": []
  },
  {
   "cell_type": "code",
   "execution_count": null,
   "metadata": {},
   "outputs": [],
   "source": []
  }
 ],
 "metadata": {
  "kernelspec": {
   "display_name": "Python 3",
   "language": "python",
   "name": "python3"
  },
  "language_info": {
   "codemirror_mode": {
    "name": "ipython",
    "version": 3
   },
   "file_extension": ".py",
   "mimetype": "text/x-python",
   "name": "python",
   "nbconvert_exporter": "python",
   "pygments_lexer": "ipython3",
   "version": "3.6.3"
  }
 },
 "nbformat": 4,
 "nbformat_minor": 2
}
